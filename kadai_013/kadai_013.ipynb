{
 "cells": [
  {
   "cell_type": "code",
   "execution_count": null,
   "id": "3908fb95",
   "metadata": {},
   "outputs": [
    {
     "name": "stdout",
     "output_type": "stream",
     "text": [
      "<function add_tax at 0x000001BE7F1CB560>\n"
     ]
    }
   ],
   "source": [
    "#変数の初期化\n",
    "price = 110 #商品価格(税抜)\n",
    "tax_rate = 10 #消費税率(%)\n",
    "tax_merged_price = 0 #消費税込みの価格\n",
    "\n",
    "#関数の定義\n",
    "def add_tax(price, tax_rate):\n",
    "    return price * ((100 + tax_rate)/100) \n",
    "\n",
    "tax_merged_price = add_tax(price, tax_rate)\n",
    "\n",
    "#計算結果の確認\n",
    "add_tax(price, tax_rate)\n",
    "print(tax_merged_price)"
   ]
  }
 ],
 "metadata": {
  "kernelspec": {
   "display_name": "Python 3",
   "language": "python",
   "name": "python3"
  },
  "language_info": {
   "codemirror_mode": {
    "name": "ipython",
    "version": 3
   },
   "file_extension": ".py",
   "mimetype": "text/x-python",
   "name": "python",
   "nbconvert_exporter": "python",
   "pygments_lexer": "ipython3",
   "version": "3.13.4"
  }
 },
 "nbformat": 4,
 "nbformat_minor": 5
}
