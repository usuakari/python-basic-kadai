{
 "cells": [
  {
   "cell_type": "code",
   "execution_count": null,
   "id": "366ee6ec",
   "metadata": {},
   "outputs": [
    {
     "ename": "AttributeError",
     "evalue": "'list' object has no attribute 'check_adult'",
     "output_type": "error",
     "traceback": [
      "\u001b[31m---------------------------------------------------------------------------\u001b[39m",
      "\u001b[31mAttributeError\u001b[39m                            Traceback (most recent call last)",
      "\u001b[36mCell\u001b[39m\u001b[36m \u001b[39m\u001b[32mIn[29]\u001b[39m\u001b[32m, line 21\u001b[39m\n\u001b[32m     18\u001b[39m humans = [Human(\u001b[33m\"\u001b[39m\u001b[33m侍太郎\u001b[39m\u001b[33m\"\u001b[39m,\u001b[32m16\u001b[39m),Human(\u001b[33m\"\u001b[39m\u001b[33m侍一郎\u001b[39m\u001b[33m\"\u001b[39m,\u001b[32m23\u001b[39m),Human(\u001b[33m\"\u001b[39m\u001b[33m侍二郎\u001b[39m\u001b[33m\"\u001b[39m,\u001b[32m19\u001b[39m),Human(\u001b[33m\"\u001b[39m\u001b[33m侍三郎\u001b[39m\u001b[33m\"\u001b[39m,\u001b[32m25\u001b[39m),Human(\u001b[33m\"\u001b[39m\u001b[33m侍四郎\u001b[39m\u001b[33m\"\u001b[39m,\u001b[32m20\u001b[39m),]\n\u001b[32m     20\u001b[39m \u001b[38;5;28;01mfor\u001b[39;00m i \u001b[38;5;129;01min\u001b[39;00m \u001b[38;5;28mrange\u001b[39m(\u001b[38;5;28mlen\u001b[39m(humans)):\n\u001b[32m---> \u001b[39m\u001b[32m21\u001b[39m     \u001b[43mhumans\u001b[49m\u001b[43m.\u001b[49m\u001b[43mcheck_adult\u001b[49m()\n",
      "\u001b[31mAttributeError\u001b[39m: 'list' object has no attribute 'check_adult'"
     ]
    }
   ],
   "source": [
    "class Human:\n",
    "    def __init__(self,name,age):\n",
    "        self.name = name\n",
    "        self.age = age\n",
    "        \n",
    "    def check_adult(self):\n",
    "        if self.age >= 20:\n",
    "            print(f\"{self.name}は大人です！\")\n",
    "        else:\n",
    "            print(f\"{self.name}は大人ではないです！！\")\n",
    "\n",
    "humans_dict = {\"侍太郎\":16,\"侍一郎\":23,\"侍二郎\":19,\"侍三郎\":25,\"侍四郎\":20,}\n",
    "\n",
    "humans_list = []\n",
    "\n",
    "for name,age in humans_dict.items():\n",
    "    human = Human(name,age)\n",
    "    humans_list.append(human)\n",
    "\n",
    "for human in humans_list:\n",
    "    human.check_adult()\n"
   ]
  }
 ],
 "metadata": {
  "kernelspec": {
   "display_name": "Python 3",
   "language": "python",
   "name": "python3"
  },
  "language_info": {
   "codemirror_mode": {
    "name": "ipython",
    "version": 3
   },
   "file_extension": ".py",
   "mimetype": "text/x-python",
   "name": "python",
   "nbconvert_exporter": "python",
   "pygments_lexer": "ipython3",
   "version": "3.13.4"
  }
 },
 "nbformat": 4,
 "nbformat_minor": 5
}
