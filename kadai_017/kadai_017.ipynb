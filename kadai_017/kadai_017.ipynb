{
 "cells": [
  {
   "cell_type": "code",
   "execution_count": 19,
   "id": "366ee6ec",
   "metadata": {},
   "outputs": [
    {
     "name": "stdout",
     "output_type": "stream",
     "text": [
      "大人ではない\n",
      "大人である\n",
      "大人ではない\n",
      "大人である\n",
      "大人である\n"
     ]
    }
   ],
   "source": [
    "class Human:\n",
    "    def __init__(self,name,age):\n",
    "        self.name = name\n",
    "        self.age = age\n",
    "        \n",
    "    def check_adult(self):\n",
    "        if self.age >= 20:\n",
    "            print(\"大人である\")\n",
    "        else:\n",
    "            print(\"大人ではない\")\n",
    "\n",
    "name = [\"侍太郎\", \"侍一郎\", \"侍二郎\", \"侍三郎\", \"侍四郎\"]\n",
    "age  = [16, 23, 19, 25, 32]\n",
    "\n",
    "for i in range(len(age)):\n",
    "    person = Human(name[i], age[i])\n",
    "    person.check_adult()\n",
    "    i += 1\n",
    "\n",
    "#Human.check_adult(age[0])"
   ]
  }
 ],
 "metadata": {
  "kernelspec": {
   "display_name": "Python 3",
   "language": "python",
   "name": "python3"
  },
  "language_info": {
   "codemirror_mode": {
    "name": "ipython",
    "version": 3
   },
   "file_extension": ".py",
   "mimetype": "text/x-python",
   "name": "python",
   "nbconvert_exporter": "python",
   "pygments_lexer": "ipython3",
   "version": "3.13.4"
  }
 },
 "nbformat": 4,
 "nbformat_minor": 5
}
