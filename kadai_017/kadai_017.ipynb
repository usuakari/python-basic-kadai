{
 "cells": [
  {
   "cell_type": "code",
   "execution_count": 31,
   "id": "366ee6ec",
   "metadata": {},
   "outputs": [
    {
     "name": "stdout",
     "output_type": "stream",
     "text": [
      "侍太郎は大人ではないです！！\n",
      "侍一郎は大人です！\n",
      "侍二郎は大人ではないです！！\n",
      "侍三郎は大人です！\n",
      "侍四郎は大人です！\n"
     ]
    }
   ],
   "source": [
    "class Human:\n",
    "    def __init__(self,name,age):\n",
    "        self.name = name\n",
    "        self.age = age\n",
    "        \n",
    "    def check_adult(self):\n",
    "        if self.age >= 20:\n",
    "            print(f\"{self.name}は大人です！\")\n",
    "        else:\n",
    "            print(f\"{self.name}は大人ではないです！！\")\n",
    "\n",
    "humans_dict = {\"侍太郎\":16,\"侍一郎\":23,\"侍二郎\":19,\"侍三郎\":25,\"侍四郎\":20,}\n",
    "\n",
    "humans_list = []\n",
    "\n",
    "for name,age in humans_dict.items():\n",
    "    human = Human(name,age)\n",
    "    humans_list.append(human)\n",
    "\n",
    "for human in humans_list:\n",
    "    human.check_adult()\n"
   ]
  }
 ],
 "metadata": {
  "kernelspec": {
   "display_name": "Python 3",
   "language": "python",
   "name": "python3"
  },
  "language_info": {
   "codemirror_mode": {
    "name": "ipython",
    "version": 3
   },
   "file_extension": ".py",
   "mimetype": "text/x-python",
   "name": "python",
   "nbconvert_exporter": "python",
   "pygments_lexer": "ipython3",
   "version": "3.13.4"
  }
 },
 "nbformat": 4,
 "nbformat_minor": 5
}
