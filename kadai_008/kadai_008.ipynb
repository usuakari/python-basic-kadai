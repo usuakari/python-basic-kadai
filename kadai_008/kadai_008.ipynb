{
 "cells": [
  {
   "cell_type": "code",
   "execution_count": 5,
   "id": "9fc02e1f",
   "metadata": {},
   "outputs": [
    {
     "name": "stdout",
     "output_type": "stream",
     "text": [
      "Fizz\n"
     ]
    }
   ],
   "source": [
    "var = 3\n",
    "\n",
    "if var % 5 == 0 and var % 3 == 0:\n",
    "    print(\"FizzBuzz\")\n",
    "\n",
    "elif var % 3 == 0:\n",
    "    print(\"Fizz\")\n",
    "\n",
    "elif var % 5 == 0:\n",
    "    print(\"Buzz\")\n",
    "\n",
    "else: print(var)"
   ]
  }
 ],
 "metadata": {
  "kernelspec": {
   "display_name": "Python 3",
   "language": "python",
   "name": "python3"
  },
  "language_info": {
   "codemirror_mode": {
    "name": "ipython",
    "version": 3
   },
   "file_extension": ".py",
   "mimetype": "text/x-python",
   "name": "python",
   "nbconvert_exporter": "python",
   "pygments_lexer": "ipython3",
   "version": "3.13.4"
  }
 },
 "nbformat": 4,
 "nbformat_minor": 5
}
