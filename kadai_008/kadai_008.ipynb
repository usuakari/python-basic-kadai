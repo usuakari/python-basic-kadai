{
 "cells": [
  {
   "cell_type": "code",
   "execution_count": null,
   "id": "9fc02e1f",
   "metadata": {},
   "outputs": [],
   "source": [
    "var = 31\n",
    "\n",
    "if var % 3 == 0 and var % 5 != 0:\n",
    "    print(\"Fizz\")\n",
    "\n",
    "elif var % 5 == 0 and var % 3 != 0:\n",
    "    print(\"Buzz\")\n",
    "\n",
    "elif var % 5 == 0 and var % 3 == 0:\n",
    "    print(\"FizzBuzz\")\n",
    "\n",
    "else: print(var)"
   ]
  }
 ],
 "metadata": {
  "language_info": {
   "name": "python"
  }
 },
 "nbformat": 4,
 "nbformat_minor": 5
}
