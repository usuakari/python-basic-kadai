{
 "cells": [
  {
   "cell_type": "code",
   "execution_count": null,
   "id": "a652a4d2",
   "metadata": {},
   "outputs": [
    {
     "name": "stdout",
     "output_type": "stream",
     "text": [
      "330.0\n"
     ]
    }
   ],
   "source": [
    "price1 = 100\n",
    "price2 = 200\n",
    "tax = 1.1\n",
    "\n",
    "def total():\n",
    "    return price1 + price2\n",
    "\n",
    "print (total() * tax)"
   ]
  }
 ],
 "metadata": {
  "kernelspec": {
   "display_name": "Python 3",
   "language": "python",
   "name": "python3"
  },
  "language_info": {
   "codemirror_mode": {
    "name": "ipython",
    "version": 3
   },
   "file_extension": ".py",
   "mimetype": "text/x-python",
   "name": "python",
   "nbconvert_exporter": "python",
   "pygments_lexer": "ipython3",
   "version": "3.13.4"
  }
 },
 "nbformat": 4,
 "nbformat_minor": 5
}
