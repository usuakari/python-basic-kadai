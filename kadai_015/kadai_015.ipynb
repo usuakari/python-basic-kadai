{
 "cells": [
  {
   "cell_type": "code",
   "execution_count": 2,
   "id": "a101c6eb",
   "metadata": {},
   "outputs": [
    {
     "name": "stdout",
     "output_type": "stream",
     "text": [
      "侍太郎\n",
      "30\n"
     ]
    }
   ],
   "source": [
    "class Human:\n",
    "    def __init__(self,name,age):\n",
    "        self.name = name\n",
    "        self.age = age\n",
    "        \n",
    "    def printinfo(self):\n",
    "        print(self.name)\n",
    "        print(self.age)\n",
    "\n",
    "human = Human(\"侍太郎\", 30)\n",
    "\n",
    "human.printinfo()\n"
   ]
  }
 ],
 "metadata": {
  "kernelspec": {
   "display_name": "Python 3",
   "language": "python",
   "name": "python3"
  },
  "language_info": {
   "codemirror_mode": {
    "name": "ipython",
    "version": 3
   },
   "file_extension": ".py",
   "mimetype": "text/x-python",
   "name": "python",
   "nbconvert_exporter": "python",
   "pygments_lexer": "ipython3",
   "version": "3.13.4"
  }
 },
 "nbformat": 4,
 "nbformat_minor": 5
}
