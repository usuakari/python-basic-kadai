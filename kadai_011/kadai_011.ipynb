{
 "cells": [
  {
   "cell_type": "code",
   "execution_count": null,
   "id": "8c70d933",
   "metadata": {},
   "outputs": [],
   "source": [
    "array = [\"水\",\"金\",\"地\",\"火\",\"木\",\"土\",\"天\",\"海\",\"冥\"]\n",
    "\n",
    "#for文の場合\n",
    "for h in range(2):\n",
    "    for i in array:\n",
    "        print(i)\n",
    "        h +1\n",
    "\n",
    "#while文の場合\n"
   ]
  },
  {
   "cell_type": "code",
   "execution_count": 15,
   "id": "04333230",
   "metadata": {},
   "outputs": [
    {
     "name": "stdout",
     "output_type": "stream",
     "text": [
      "水\n",
      "金\n",
      "地\n",
      "火\n",
      "木\n",
      "土\n",
      "天\n",
      "海\n",
      "冥\n",
      "水\n",
      "金\n",
      "地\n",
      "火\n",
      "木\n",
      "土\n",
      "天\n",
      "海\n",
      "冥\n"
     ]
    }
   ],
   "source": [
    "array = [\"水\",\"金\",\"地\",\"火\",\"木\",\"土\",\"天\",\"海\",\"冥\"]\n",
    "\n",
    "#while文の場合\n",
    "j = 1\n",
    "\n",
    "while array[0] == \"水\":\n",
    "    \n",
    "    print(array[0])\n",
    "    print(array[1])\n",
    "    print(array[2])\n",
    "    print(array[3])\n",
    "    print(array[4])\n",
    "    print(array[5])\n",
    "    print(array[6])\n",
    "    print(array[7])\n",
    "    print(array[8])\n",
    "    if j == 2:\n",
    "        break\n",
    "    j = j + 1\n",
    "    "
   ]
  }
 ],
 "metadata": {
  "kernelspec": {
   "display_name": "Python 3",
   "language": "python",
   "name": "python3"
  },
  "language_info": {
   "codemirror_mode": {
    "name": "ipython",
    "version": 3
   },
   "file_extension": ".py",
   "mimetype": "text/x-python",
   "name": "python",
   "nbconvert_exporter": "python",
   "pygments_lexer": "ipython3",
   "version": "3.13.4"
  }
 },
 "nbformat": 4,
 "nbformat_minor": 5
}
