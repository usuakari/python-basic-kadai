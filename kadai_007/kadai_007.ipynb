{
 "cells": [
  {
   "cell_type": "code",
   "execution_count": null,
   "id": "28f891f1",
   "metadata": {},
   "outputs": [],
   "source": [
    "array = [\n",
    "    \"月曜日は晴れです\",\n",
    "    \"火曜日は雨です\",\n",
    "    \"水曜日は晴れです\",\n",
    "    \"木曜日は晴れです\",\n",
    "    \"金曜日は曇りです\",\n",
    "    \"土曜日は曇りのち雨です\",\n",
    "    \"日曜日は雷雨です\",\n",
    "]\n",
    "\n",
    "dictionary = {\n",
    "    \"mon\":\"晴れ\",\n",
    "    \"tue\":\"雨\",\n",
    "    \"wed\":\"晴れ\",\n",
    "    \"thu\":\"晴れ\",\n",
    "    \"fri\":\"曇り\",\n",
    "    \"sat\":\"曇りのち雨\",\n",
    "    \"sun\":\"雷雨\",\n",
    "}\n",
    "\n",
    "print(array[1])\n",
    "print(dictionary)"
   ]
  }
 ],
 "metadata": {
  "language_info": {
   "name": "python"
  }
 },
 "nbformat": 4,
 "nbformat_minor": 5
}
