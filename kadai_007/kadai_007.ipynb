{
 "cells": [
  {
   "cell_type": "code",
   "execution_count": 1,
   "id": "28f891f1",
   "metadata": {},
   "outputs": [
    {
     "name": "stdout",
     "output_type": "stream",
     "text": [
      "水曜日は晴れです\n",
      "晴れ\n"
     ]
    }
   ],
   "source": [
    "array = [\n",
    "    \"月曜日は晴れです\",\n",
    "    \"火曜日は雨です\",\n",
    "    \"水曜日は晴れです\",\n",
    "    \"木曜日は晴れです\",\n",
    "    \"金曜日は曇りです\",\n",
    "    \"土曜日は曇りのち雨です\",\n",
    "    \"日曜日は雷雨です\",\n",
    "]\n",
    "\n",
    "dictionary = {\n",
    "    \"mon\":\"晴れ\",\n",
    "    \"tue\":\"雨\",\n",
    "    \"wed\":\"晴れ\",\n",
    "    \"thu\":\"晴れ\",\n",
    "    \"fri\":\"曇り\",\n",
    "    \"sat\":\"曇りのち雨\",\n",
    "    \"sun\":\"雷雨\",\n",
    "}\n",
    "\n",
    "print(array[2])\n",
    "print(dictionary[\"wed\"])"
   ]
  }
 ],
 "metadata": {
  "kernelspec": {
   "display_name": "Python 3",
   "language": "python",
   "name": "python3"
  },
  "language_info": {
   "codemirror_mode": {
    "name": "ipython",
    "version": 3
   },
   "file_extension": ".py",
   "mimetype": "text/x-python",
   "name": "python",
   "nbconvert_exporter": "python",
   "pygments_lexer": "ipython3",
   "version": "3.13.4"
  }
 },
 "nbformat": 4,
 "nbformat_minor": 5
}
