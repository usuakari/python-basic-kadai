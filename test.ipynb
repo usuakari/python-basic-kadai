{
 "cells": [
  {
   "cell_type": "code",
   "execution_count": 23,
   "id": "9146c60b",
   "metadata": {},
   "outputs": [
    {
     "name": "stdout",
     "output_type": "stream",
     "text": [
      "火曜日は雨です\n",
      "{'mon': '晴れ', 'tue': '雨', 'wed': '晴れ', 'thu': '晴れ', 'fri': '曇り', 'sat': '曇りのち雨', 'sun': '雷雨'}\n"
     ]
    }
   ],
   "source": [
    "array = [\n",
    "    \"月曜日は晴れです\",\n",
    "    \"火曜日は雨です\",\n",
    "    \"水曜日は晴れです\",\n",
    "    \"木曜日は晴れです\",\n",
    "    \"金曜日は曇りです\",\n",
    "    \"土曜日は曇りのち雨です\",\n",
    "    \"日曜日は雷雨です\",\n",
    "]\n",
    "\n",
    "dictionary = {\n",
    "    \"mon\":\"晴れ\",\n",
    "    \"tue\":\"雨\",\n",
    "    \"wed\":\"晴れ\",\n",
    "    \"thu\":\"晴れ\",\n",
    "    \"fri\":\"曇り\",\n",
    "    \"sat\":\"曇りのち雨\",\n",
    "    \"sun\":\"雷雨\",\n",
    "}\n",
    "\n",
    "print(array[1])\n",
    "print(dictionary)"
   ]
  },
  {
   "cell_type": "code",
   "execution_count": 17,
   "id": "85bb0d04",
   "metadata": {},
   "outputs": [
    {
     "name": "stdout",
     "output_type": "stream",
     "text": [
      "31\n"
     ]
    }
   ],
   "source": [
    "var = 31\n",
    "\n",
    "if var % 3 == 0 and var % 5 != 0:\n",
    "    print(\"Fizz\")\n",
    "\n",
    "elif var % 5 == 0 and var % 3 != 0:\n",
    "    print(\"Buzz\")\n",
    "\n",
    "elif var % 5 == 0 and var % 3 == 0:\n",
    "    print(\"FizzBuzz\")\n",
    "\n",
    "else: print(var)\n",
    "\n"
   ]
  },
  {
   "cell_type": "code",
   "execution_count": 21,
   "id": "8444793f",
   "metadata": {},
   "outputs": [
    {
     "name": "stdout",
     "output_type": "stream",
     "text": [
      "侍太郎\n",
      "侍次郎\n",
      "侍三郎\n"
     ]
    }
   ],
   "source": [
    "personal_data = [\"侍太郎\", \"侍次郎\", \"侍三郎\"]\n",
    "\n",
    "for key in personal_data:\n",
    "    print(key)"
   ]
  },
  {
   "cell_type": "code",
   "execution_count": null,
   "id": "f8e51133",
   "metadata": {},
   "outputs": [],
   "source": []
  }
 ],
 "metadata": {
  "kernelspec": {
   "display_name": "Python 3",
   "language": "python",
   "name": "python3"
  },
  "language_info": {
   "codemirror_mode": {
    "name": "ipython",
    "version": 3
   },
   "file_extension": ".py",
   "mimetype": "text/x-python",
   "name": "python",
   "nbconvert_exporter": "python",
   "pygments_lexer": "ipython3",
   "version": "3.13.4"
  }
 },
 "nbformat": 4,
 "nbformat_minor": 5
}
